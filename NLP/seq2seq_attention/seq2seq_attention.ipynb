{
 "cells": [
  {
   "cell_type": "markdown",
   "metadata": {},
   "source": [
    "# 一、包导入"
   ]
  },
  {
   "cell_type": "code",
   "execution_count": 1,
   "metadata": {},
   "outputs": [
    {
     "name": "stdout",
     "output_type": "stream",
     "text": [
      "2.0.0\n",
      "sys.version_info(major=3, minor=6, micro=10, releaselevel='final', serial=0)\n",
      "matplotlib 3.1.3\n",
      "numpy 1.16.2\n",
      "pandas 0.25.3\n",
      "sklearn 0.22.2.post1\n",
      "tensorflow 2.0.0\n",
      "tensorflow_core.keras 2.2.4-tf\n"
     ]
    }
   ],
   "source": [
    "%matplotlib inline\n",
    "import matplotlib as mpl\n",
    "import matplotlib.pyplot as plt\n",
    "import numpy as np\n",
    "import os\n",
    "import pandas as pd\n",
    "import sklearn\n",
    "import sys\n",
    "import tensorflow as tf\n",
    "import time\n",
    "\n",
    "from tensorflow import keras\n",
    "\n",
    "print(tf.__version__)\n",
    "print(sys.version_info)\n",
    "for module in mpl, np, pd, sklearn, tf, keras:\n",
    "    print(module.__name__, module.__version__)"
   ]
  },
  {
   "cell_type": "markdown",
   "metadata": {},
   "source": [
    "# 基本步骤\n",
    "- 1. 预处理数据\n",
    "- 2. 建立模型\n",
    "- 2.1 encoder \n",
    "- 2.2 attention\n",
    "- 2.3 decoder\n",
    "- 3. evaluation \n",
    "- 3.1 given sentence, return translation results \n",
    "- 3.2 visualize results (attention)"
   ]
  },
  {
   "cell_type": "markdown",
   "metadata": {},
   "source": [
    "# 二、数据预处理"
   ]
  },
  {
   "cell_type": "markdown",
   "metadata": {},
   "source": [
    "##### unicode -> ascii"
   ]
  },
  {
   "cell_type": "code",
   "execution_count": 2,
   "metadata": {},
   "outputs": [
    {
     "name": "stdout",
     "output_type": "stream",
     "text": [
      "May I borrow this book?\n",
      "¿Puedo tomar prestado este libro?\n"
     ]
    }
   ],
   "source": [
    "import unicodedata \n",
    "def unicode_to_ascii(s): # 处理了一下西班牙语(移除重音accent), 而且ascii好像大小比较小. \n",
    "    return ''.join(c for c in unicodedata.normalize('NFD', s) if unicodedata.category(c) != 'Mn')  \n",
    "\n",
    "\n",
    "# 举了个例子:\n",
    "en_sentence = u\"May I borrow this book?\"\n",
    "sp_sentence = u\"¿Puedo tomar prestado este libro?\"\n",
    "print(unicode_to_ascii(en_sentence))\n",
    "print(unicode_to_ascii(sp_sentence))"
   ]
  },
  {
   "cell_type": "markdown",
   "metadata": {},
   "source": [
    "##### 数据预处理"
   ]
  },
  {
   "cell_type": "code",
   "execution_count": 3,
   "metadata": {},
   "outputs": [
    {
     "name": "stdout",
     "output_type": "stream",
     "text": [
      "<start> may i borrow this book ? <end>\n",
      "b'<start> \\xc2\\xbf puedo tomar prestado este libro ? <end>'\n"
     ]
    }
   ],
   "source": [
    "import re \n",
    "def preprocess_sentence(w):\n",
    "    # 先变成 ASCII码. \n",
    "    w = unicode_to_ascii(w.lower().strip())\n",
    "\n",
    "    # 标点符号前后加空格. \n",
    "    w = re.sub(r\"([?.!,¿])\", r\" \\1 \", w)\n",
    "    # 多余的空格变成一个空格. \n",
    "    w = re.sub(r'[\" \"]+', \" \", w)\n",
    "\n",
    "    # 除了标点符号和字母外都替换为空格. \n",
    "    w = re.sub(r\"[^a-zA-Z?.!,¿]+\", \" \", w)\n",
    "    \n",
    "    # 去掉前后空格, rstrip表示去掉尾部空格. strip表示去掉头部空格. \n",
    "    w = w.rstrip().strip()\n",
    "\n",
    "    w = '<start> ' + w + ' <end>'\n",
    "    return w\n",
    "\n",
    "print(preprocess_sentence(en_sentence))\n",
    "print(preprocess_sentence(sp_sentence).encode('utf-8'))"
   ]
  },
  {
   "cell_type": "markdown",
   "metadata": {},
   "source": [
    "##### 文本中读取数据"
   ]
  },
  {
   "cell_type": "code",
   "execution_count": 4,
   "metadata": {},
   "outputs": [
    {
     "ename": "NameError",
     "evalue": "name 'en' is not defined",
     "output_type": "error",
     "traceback": [
      "\u001b[1;31m---------------------------------------------------------------------------\u001b[0m",
      "\u001b[1;31mNameError\u001b[0m                                 Traceback (most recent call last)",
      "\u001b[1;32m<ipython-input-4-328c2a4a8fff>\u001b[0m in \u001b[0;36m<module>\u001b[1;34m\u001b[0m\n\u001b[0;32m     22\u001b[0m \u001b[1;33m\u001b[0m\u001b[0m\n\u001b[0;32m     23\u001b[0m \u001b[0men_dataset\u001b[0m\u001b[1;33m,\u001b[0m \u001b[0msp_dataset\u001b[0m \u001b[1;33m=\u001b[0m \u001b[0mcreate_dataset\u001b[0m\u001b[1;33m(\u001b[0m\u001b[0mdata_path\u001b[0m\u001b[1;33m,\u001b[0m \u001b[1;32mNone\u001b[0m\u001b[1;33m)\u001b[0m\u001b[1;33m\u001b[0m\u001b[1;33m\u001b[0m\u001b[0m\n\u001b[1;32m---> 24\u001b[1;33m \u001b[0mprint\u001b[0m\u001b[1;33m(\u001b[0m\u001b[0men\u001b[0m\u001b[1;33m[\u001b[0m\u001b[1;33m-\u001b[0m\u001b[1;36m1\u001b[0m\u001b[1;33m]\u001b[0m\u001b[1;33m)\u001b[0m\u001b[1;33m\u001b[0m\u001b[1;33m\u001b[0m\u001b[0m\n\u001b[0m\u001b[0;32m     25\u001b[0m \u001b[0mprint\u001b[0m\u001b[1;33m(\u001b[0m\u001b[0msp\u001b[0m\u001b[1;33m[\u001b[0m\u001b[1;33m-\u001b[0m\u001b[1;36m1\u001b[0m\u001b[1;33m]\u001b[0m\u001b[1;33m)\u001b[0m\u001b[1;33m\u001b[0m\u001b[1;33m\u001b[0m\u001b[0m\n",
      "\u001b[1;31mNameError\u001b[0m: name 'en' is not defined"
     ]
    }
   ],
   "source": [
    "data_path = './spa.txt'\n",
    "\n",
    "# 1. Remove the accents\n",
    "# 2. Clean the sentences\n",
    "# 3. Return word pairs in the format: [ENGLISH, SPANISH]\n",
    "def create_dataset(path, num_examples):\n",
    "    # 按行分割. \n",
    "    lines = open(path, encoding='UTF-8').read().strip().split('\\n')\n",
    "    \n",
    "    # 形成句子对 [['英语', '西班牙语']] \n",
    "    sentence_pairs = [line.split('\\t') for line in lines]\n",
    "    \n",
    "    # 形成句子对 tuple [('英语', '西班牙语'), ('英语', '西班牙语')] \n",
    "    preprocessed_sentence_pairs = [\n",
    "        (preprocess_sentence(en), preprocess_sentence(sp)) for en, sp in sentence_pairs]\n",
    "    \n",
    "    # 对每一行中的 两个句子 做预处理操作. \n",
    "    word_pairs = [[preprocess_sentence(w) for w in l.split('\\t')]  for l in lines[:num_examples]]\n",
    "    \n",
    "    # 将[('good', 1), ('bad', -1), ('thx', 1)] 变为 ('good', 'bad', 'thx') 和 (1, -1, 1) 两个tuple类型\n",
    "    return zip(*word_pairs)\n",
    "\n",
    "en_dataset, sp_dataset = create_dataset(data_path, None)\n",
    "print(en[-1])\n",
    "print(sp[-1])"
   ]
  },
  {
   "cell_type": "code",
   "execution_count": null,
   "metadata": {},
   "outputs": [],
   "source": [
    "a = [(1, 2), (3, 4), (5, 6)]\n",
    "c, d = zip(*a)\n",
    "print(type(c))\n",
    "print(c, d)"
   ]
  },
  {
   "cell_type": "code",
   "execution_count": null,
   "metadata": {},
   "outputs": [],
   "source": [
    "a = [[1, 2], [3, 4], [5, 6]]\n",
    "c, d = zip(*a)\n",
    "print(type(c))\n",
    "print(c, d)"
   ]
  },
  {
   "cell_type": "markdown",
   "metadata": {},
   "source": [
    "##### 文本变数字序列. "
   ]
  },
  {
   "cell_type": "code",
   "execution_count": 6,
   "metadata": {},
   "outputs": [
    {
     "name": "stdout",
     "output_type": "stream",
     "text": [
      "16 11\n"
     ]
    }
   ],
   "source": [
    "def tokenizer(lang):\n",
    "    # num_words=None 代表对词表大小无要求.  filters='' 表示过滤也无要求. 按空格' '分割. \n",
    "    lang_tokenizer = keras.preprocessing.text.Tokenizer(\n",
    "        num_words=None, filters='', split=' ') \n",
    "    \n",
    "    # 拟合文本. \n",
    "    lang_tokenizer.fit_on_texts(lang)\n",
    "    \n",
    "    # 序列化后的文本. \n",
    "    tensor = lang_tokenizer.texts_to_sequences(lang)\n",
    "    \n",
    "    # 对序列化后的文本作下padding. \n",
    "    tensor = tf.keras.preprocessing.sequence.pad_sequences(tensor, padding='post')\n",
    "    \n",
    "    # 返回序列化后的文本, 和tokenizer分割器. \n",
    "    return tensor, lang_tokenizer\n",
    "\n",
    "# 看下 tensor的最大长度. \n",
    "def max_length(tensor):\n",
    "    return max(len(t) for t in tensor)\n",
    "\n",
    "input_tensor, input_tokenizer = tokenizer(sp_dataset[0:30000])\n",
    "output_tensor, output_tokenizer = tokenizer(en_dataset[0:30000])\n",
    "\n",
    "# 实验. \n",
    "max_length_input = max_length(input_tensor) \n",
    "max_length_output = max_length(output_tensor)\n",
    "print(max_length_input, max_length_output)"
   ]
  },
  {
   "cell_type": "markdown",
   "metadata": {},
   "source": [
    "##### 验证集和训练集的切分"
   ]
  },
  {
   "cell_type": "code",
   "execution_count": 7,
   "metadata": {},
   "outputs": [
    {
     "data": {
      "text/plain": [
       "(24000, 24000, 6000, 6000)"
      ]
     },
     "execution_count": 7,
     "metadata": {},
     "output_type": "execute_result"
    }
   ],
   "source": [
    "from sklearn.model_selection import train_test_split \n",
    "\n",
    "# 训练集和测试集切分 8:2\n",
    "input_tensor_train, input_tensor_val, target_tensor_train, target_tensor_val = train_test_split(\n",
    "    input_tensor, output_tensor, test_size=0.2)\n",
    "\n",
    "# 显示长度\n",
    "len(input_tensor_train), len(target_tensor_train), len(input_tensor_val), len(target_tensor_val)"
   ]
  },
  {
   "cell_type": "code",
   "execution_count": 8,
   "metadata": {},
   "outputs": [
    {
     "data": {
      "text/plain": [
       "array([[   1,    8,    7, ...,    0,    0,    0],\n",
       "       [   1,    6,   43, ...,    0,    0,    0],\n",
       "       [   1,  775,   31, ...,    0,    0,    0],\n",
       "       ...,\n",
       "       [   1,    7, 4167, ...,    0,    0,    0],\n",
       "       [   1, 3473,   31, ...,    0,    0,    0],\n",
       "       [   1,   12,  153, ...,    0,    0,    0]])"
      ]
     },
     "execution_count": 8,
     "metadata": {},
     "output_type": "execute_result"
    }
   ],
   "source": [
    "input_tensor_train"
   ]
  },
  {
   "cell_type": "markdown",
   "metadata": {},
   "source": [
    "##### tf.data.Dataset 创建"
   ]
  },
  {
   "cell_type": "code",
   "execution_count": 14,
   "metadata": {},
   "outputs": [],
   "source": [
    "def make_dataset(input_tensor, output_tensor, \n",
    "                 batch_size, epochs, shuffle):\n",
    "    \n",
    "    # 用了tf.data.Dataset. \n",
    "    dataset = tf.data.Dataset.from_tensor_slices(\n",
    "        (input_tensor, output_tensor)) \n",
    "    \n",
    "    # 如果需要打乱的话\n",
    "    if shuffle: \n",
    "        dataset = dataset.shuffle(30000)\n",
    "    \n",
    "    \n",
    "    # repeat 数据重复了 epochs 份.     \n",
    "    # drop_remainder=True 代表. 如果大小不足一个batch_size, 丢弃. \n",
    "    dataset = dataset.repeat(epochs).batch(\n",
    "        batch_size, drop_remainder = True)\n",
    "    \n",
    "    return dataset \n",
    "\n",
    "batch_size = 64 \n",
    "epochs = 10 \n",
    "\n",
    "train_dataset = make_dataset(\n",
    "        input_tensor_train, target_tensor_train, batch_size, epochs, True)\n",
    "eval_dataset = make_dataset(\n",
    "        input_tensor_val, target_tensor_val, batch_size, 1, False)"
   ]
  },
  {
   "cell_type": "code",
   "execution_count": 15,
   "metadata": {},
   "outputs": [
    {
     "name": "stdout",
     "output_type": "stream",
     "text": [
      "(64, 16)\n",
      "(64, 11)\n"
     ]
    }
   ],
   "source": [
    "# 随便取一个看看 shape \n",
    "for x, y in train_dataset.take(1):\n",
    "    print(x.shape) \n",
    "    print(y.shape)\n",
    "    \n",
    "# [Batch_size, token_dim] "
   ]
  },
  {
   "cell_type": "markdown",
   "metadata": {},
   "source": [
    "# 三、模型建立"
   ]
  },
  {
   "cell_type": "code",
   "execution_count": 16,
   "metadata": {},
   "outputs": [],
   "source": [
    "embedding_units = 256 \n",
    "units = 1024 \n",
    "\n",
    "# tokenizer.word_index 是 word -> index 的字典. \n",
    "input_vocab_size = len(input_tokenizer.word_index) + 1 \n",
    "output_vocab_size = len(output_tokenizer.word_index) + 1 "
   ]
  },
  {
   "cell_type": "markdown",
   "metadata": {},
   "source": [
    "##### 1、Encoder"
   ]
  },
  {
   "cell_type": "code",
   "execution_count": 17,
   "metadata": {},
   "outputs": [],
   "source": [
    "class Encoder(tf.keras.Model):\n",
    "    def __init__(self, vocab_size, embedding_dim, encoding_units, batch_size):\n",
    "        # 这里的 encoding_units 是 Encoder 输出每个token 的dimension.  \n",
    "        \n",
    "        super(Encoder, self).__init__()\n",
    "        self.batch_size = batch_size\n",
    "        self.encoding_units = encoding_units\n",
    "        \n",
    "        # embedding需要 词表大小vocab_size 和 输出维度embedding_dim \n",
    "        self.embedding = keras.layers.Embedding(vocab_size, embedding_dim)\n",
    "        \n",
    "        # encoding_units代表      gru的time step. \n",
    "        # return_sequences=True代表      每步都输出output.  \n",
    "        # return state=True代表          每步都输出hidden_state. \n",
    "        self.gru = keras.layers.GRU(self.encoding_units,\n",
    "                                    return_sequences=True,\n",
    "                                    return_state=True,\n",
    "                                    recurrent_initializer='glorot_uniform')\n",
    "\n",
    "    def call(self, x, hidden):\n",
    "        x = self.embedding(x)\n",
    "        output, state = self.gru(x, initial_state = hidden)\n",
    "        return output, state\n",
    "\n",
    "    def initialize_hidden_state(self):\n",
    "        return tf.zeros((self.batch_size, self.encoding_units))"
   ]
  },
  {
   "cell_type": "code",
   "execution_count": 18,
   "metadata": {},
   "outputs": [
    {
     "name": "stdout",
     "output_type": "stream",
     "text": [
      "(64, 16)\n",
      "sample_output.shape  (64, 16, 1024)\n",
      "sample_hidden.shape  (64, 1024)\n"
     ]
    }
   ],
   "source": [
    "encoder = Encoder(input_vocab_size, embedding_units, \n",
    "                 units, batch_size)\n",
    "\n",
    "sample_hidden = encoder.initialize_hidden_state()\n",
    "sample_output, sample_hidden = encoder(x, sample_hidden)  # 这里的 x 是之前采的一个样本. \n",
    "\n",
    "print(x.shape)\n",
    "print(\"sample_output.shape \", sample_output.shape)        # sample_output.shape = (64, 16, 1024) 这里的16代表一句话中有16个词.  \n",
    "print(\"sample_hidden.shape \", sample_hidden.shape)"
   ]
  },
  {
   "cell_type": "markdown",
   "metadata": {},
   "source": [
    "##### 2、BahdanauAttention"
   ]
  },
  {
   "cell_type": "code",
   "execution_count": 19,
   "metadata": {},
   "outputs": [],
   "source": [
    "class BahdanauAttention(tf.keras.Model):\n",
    "    def __init__(self, units):                  # 注意: 这里的units和下面call中的units是不同的，下面的是seq2seq的输出维度. \n",
    "                                                # 这里的units 只是 Dense后的units(好像可以随便设?) \n",
    "        super(BahdanauAttention, self).__init__()\n",
    "        self.W1 = tf.keras.layers.Dense(units)  # 和 encoder_outputs相乘. \n",
    "        self.W2 = tf.keras.layers.Dense(units)  # 和 decoder_hidden相乘. \n",
    "        self.V = tf.keras.layers.Dense(1)       # 和 tanh(W1*encoder_outputs + W2*decoder_hidden)相乘. \n",
    "\n",
    "        \n",
    "    # attention中的一个输入是 decoder中上一个timestep传来的decoder_hidden. \n",
    "    # attention中的另一个输入是 encoder中所有timestep的输出outputs. \n",
    "    def call(self, decoder_hidden, encoder_outputs):\n",
    "        # decoder_hidden.shape:  (batch_size, units) 需要拓展. \n",
    "        # encoder_hidden.shape:  (batch_size, length, units) \n",
    "        decoder_hidden_with_time_axis = tf.expand_dims(\n",
    "            decoder_hidden, 1)\n",
    "        \n",
    "        # before V: (batch_size, length, units)\n",
    "        # after  V: (batch_size, length, 1)   得到score. 每个timestep 一个 score.\n",
    "        score = self.V(\n",
    "            tf.nn.tanh(\n",
    "                self.W1(encoder_outputs) + self.W2(decoder_hidden_with_time_axis)))\n",
    "\n",
    "        # attention_weights.shape :  (batch_size, length, 1)\n",
    "        attention_weights = tf.nn.softmax(score, axis=1)\n",
    "\n",
    "        # context_vector.shape :     (batch_size, length, units)\n",
    "        # 计算: (batch_size, length, 1) * (batch_size, length, units) 只有最后一维对不上, tf 自动给做了padding.  \n",
    "        context_vector = attention_weights * encoder_outputs \n",
    "        \n",
    "        # context_vector.shape :     (batch_size, units)\n",
    "        context_vector = tf.reduce_sum(context_vector, axis=1)\n",
    "\n",
    "        return context_vector, attention_weights"
   ]
  },
  {
   "cell_type": "code",
   "execution_count": 20,
   "metadata": {},
   "outputs": [
    {
     "name": "stdout",
     "output_type": "stream",
     "text": [
      "Attention result shape: (batch size, units) (64, 1024)\n",
      "Attention weights shape: (batch_size, sequence_length, 1) (64, 16, 1)\n"
     ]
    }
   ],
   "source": [
    "attention_model = BahdanauAttention(units = 10)\n",
    "attention_results, attention_weights = attention_model(\n",
    "    sample_hidden, sample_output)\n",
    "\n",
    "# attention_results 是 context_vector. \n",
    "print(\"Attention result shape: (batch size, units) {}\".format(attention_results.shape))\n",
    "print(\"Attention weights shape: (batch_size, sequence_length, 1) {}\".format(attention_weights.shape))"
   ]
  },
  {
   "cell_type": "markdown",
   "metadata": {},
   "source": [
    "##### 3、decoder"
   ]
  },
  {
   "cell_type": "code",
   "execution_count": 21,
   "metadata": {},
   "outputs": [],
   "source": [
    "class Decoder(tf.keras.Model):\n",
    "    def __init__(self, vocab_size, embedding_units, \n",
    "                 decoding_units, batch_size):\n",
    "        super(Decoder, self).__init__()\n",
    "        self.batch_size = batch_size\n",
    "        self.decoding_units = decoding_units\n",
    "        self.embedding = keras.layers.Embedding(vocab_size, embedding_units)\n",
    "        self.gru = keras.layers.GRU(self.decoding_units,          # decoder 每一time step的输出维度.  \n",
    "                                    return_sequences=True,       # 同样需要每步都输出. \n",
    "                                    return_state=True,\n",
    "                                    recurrent_initializer='glorot_uniform')\n",
    "        # 全连接层. \n",
    "        self.fc = keras.layers.Dense(vocab_size)\n",
    "\n",
    "        # used for attention\n",
    "        self.attention = BahdanauAttention(self.decoding_units)\n",
    "\n",
    "    def call(self, x, hidden, encoding_outputs):\n",
    "        # x.shape: (Batchsize, 1)\n",
    "        \n",
    "        # context_vector.shape:  (batch_size, units)\n",
    "        context_vector, attention_weights = self.attention(\n",
    "            hidden, encoding_outputs)\n",
    "\n",
    "        # before embedding:       x.shape: (batch_size, 1)\n",
    "        # after embedding:        x.shape: (batch_size, 1, embedding_units) \n",
    "        x = self.embedding(x)\n",
    "\n",
    "        # combined_x.shape:      (batch_size, 1, encoding_units + embedding_units)\n",
    "        combined_x = tf.concat(\n",
    "            [tf.expand_dims(context_vector, 1), x], axis=-1)\n",
    "        \n",
    "        # output.shape:  (batch_size, 1, decoding_units)            疑问？为什么不是(batch_size, length, decoding_units)呢? \n",
    "        # state.shape :  (batch_size, decoding_units) \n",
    "        output, state = self.gru(combined_x)\n",
    "\n",
    "        # output.shape : (batch_size , hidden_size) 去掉了shape中的1. \n",
    "        output = tf.reshape(output, (-1, output.shape[2]))\n",
    "\n",
    "        # output.shape == (batch_size, vocab)  返回的是一个词. \n",
    "        output = self.fc(output)\n",
    "\n",
    "        return output, state, attention_weights"
   ]
  },
  {
   "cell_type": "code",
   "execution_count": 22,
   "metadata": {},
   "outputs": [
    {
     "name": "stdout",
     "output_type": "stream",
     "text": [
      "decoder_output.shape:  (64, 4935)\n",
      "decoder_hidden.shape:  (64, 1024)\n",
      "decoder_attention_weights.shape:  (64, 16, 1)\n"
     ]
    }
   ],
   "source": [
    "decoder = Decoder(output_vocab_size, embedding_units,\n",
    "                 units, batch_size)\n",
    "\n",
    "outputs = decoder(tf.random.uniform((batch_size, 1)),\n",
    "                 sample_hidden,\n",
    "                 sample_output)\n",
    "\n",
    "decoder_output, decoder_hidden, decoder_aw = outputs\n",
    "# 输出的是某一时刻的单词,  4935是词表大小\n",
    "print(\"decoder_output.shape: \", decoder_output.shape)\n",
    "print(\"decoder_hidden.shape: \", decoder_hidden.shape)\n",
    "print(\"decoder_attention_weights.shape: \", decoder_aw.shape)"
   ]
  },
  {
   "cell_type": "markdown",
   "metadata": {},
   "source": [
    "# 四、损失函数"
   ]
  },
  {
   "cell_type": "code",
   "execution_count": 23,
   "metadata": {},
   "outputs": [],
   "source": [
    "optimizer = keras.optimizers.Adam()\n",
    "\n",
    "# from_logits 意思是 输出未经 softmax层,  reduction = 'none' 意思是不求取平均值\n",
    "loss_object = keras.losses.SparseCategoricalCrossentropy(\n",
    "    from_logits = True, reduction = 'none')\n",
    "\n",
    "# 这里只是单步（time_step）的损失函数。 \n",
    "def loss_function(real, pred):\n",
    "    # 这里的mask是为了遮挡. real中padding的部分, 因为padding部分不放在损失函数中\n",
    "    mask = tf.math.logical_not(tf.math.equal(real, 0))\n",
    "    loss_ = loss_object(real, pred)\n",
    "    \n",
    "    # before : mask元素是True or False. \n",
    "    # after  : mask元素是0 or 1 \n",
    "    mask = tf.cast(mask, dtype=loss_.dtype)\n",
    "    loss_ *= mask \n",
    "    \n",
    "    return tf.reduce_mean(loss_)"
   ]
  },
  {
   "cell_type": "markdown",
   "metadata": {},
   "source": [
    "# 五、训练函数"
   ]
  },
  {
   "cell_type": "markdown",
   "metadata": {},
   "source": [
    "##### 单步损失"
   ]
  },
  {
   "cell_type": "code",
   "execution_count": 24,
   "metadata": {},
   "outputs": [],
   "source": [
    "# 添加tf.function 可以做加速. \n",
    "@tf.function\n",
    "def train_step(inp, targ, encoding_hidden):\n",
    "    loss = 0 \n",
    "    with tf.GradientTape() as tape:\n",
    "        encoding_outputs, encoding_hidden = encoder(\n",
    "            inp, encoding_hidden)\n",
    "        \n",
    "        # decoding 的初始 hidden 是 encoder的最后一个 hidden. \n",
    "        decoding_hidden = encoding_hidden \n",
    "        \n",
    "        # eg: <start> I am here <end>\n",
    "        # 1. <start> -> I\n",
    "        # 2. I -> am \n",
    "        # 3. am -> here\n",
    "        # 4. here -> <end>\n",
    "        \n",
    "        # decoding 有 (句长 - 1) 步. \n",
    "        for t in range(0, targ.shape[1] - 1):\n",
    "            decoding_input = tf.expand_dims(targ[:, t], 1)\n",
    "            \n",
    "            predictions, decoding_hidden, _ = decoder(\n",
    "                decoding_input, decoding_hidden, encoding_outputs)\n",
    "            loss += loss_function(targ[:, t+1], predictions) \n",
    "     \n",
    "    \n",
    "    batch_loss = loss / int(targ.shape[0]) \n",
    "    variables = encoder.trainable_variables + decoder.trainable_variables \n",
    "    gradients = tape.gradient(loss, variables)\n",
    "    optimizer.apply_gradients(zip(gradients, variables))\n",
    "    return batch_loss "
   ]
  },
  {
   "cell_type": "markdown",
   "metadata": {},
   "source": [
    "##### 开始训练"
   ]
  },
  {
   "cell_type": "code",
   "execution_count": 25,
   "metadata": {},
   "outputs": [
    {
     "name": "stdout",
     "output_type": "stream",
     "text": [
      "Epoch 1 Batch 0 Loss 0.8139\n",
      "Epoch 1 Batch 100 Loss 0.3747\n",
      "Epoch 1 Batch 200 Loss 0.3240\n",
      "Epoch 1 Batch 300 Loss 0.3163\n",
      "Epoch 1 Batch 400 Loss 0.2600\n",
      "Epoch 1 Loss 0.3367\n",
      "Time take for 1 epoch 83.3097403049469 sec\n",
      "\n",
      "Epoch 2 Batch 0 Loss 0.2471\n",
      "Epoch 2 Batch 100 Loss 0.2328\n",
      "Epoch 2 Batch 200 Loss 0.2399\n",
      "Epoch 2 Batch 300 Loss 0.2141\n",
      "Epoch 2 Batch 400 Loss 0.1453\n",
      "Epoch 2 Loss 0.2135\n",
      "Time take for 1 epoch 69.20133399963379 sec\n",
      "\n",
      "Epoch 3 Batch 0 Loss 0.1588\n",
      "Epoch 3 Batch 100 Loss 0.1464\n",
      "Epoch 3 Batch 200 Loss 0.1352\n",
      "Epoch 3 Batch 300 Loss 0.1215\n",
      "Epoch 3 Batch 400 Loss 0.1029\n",
      "Epoch 3 Loss 0.1317\n",
      "Time take for 1 epoch 68.0903377532959 sec\n",
      "\n",
      "Epoch 4 Batch 0 Loss 0.0821\n",
      "Epoch 4 Batch 100 Loss 0.0914\n",
      "Epoch 4 Batch 200 Loss 0.0929\n",
      "Epoch 4 Batch 300 Loss 0.0775\n",
      "Epoch 4 Batch 400 Loss 0.0492\n",
      "Epoch 4 Loss 0.0817\n",
      "Time take for 1 epoch 67.2599892616272 sec\n",
      "\n",
      "Epoch 5 Batch 0 Loss 0.0547\n",
      "Epoch 5 Batch 100 Loss 0.0542\n",
      "Epoch 5 Batch 200 Loss 0.0631\n",
      "Epoch 5 Batch 300 Loss 0.0622\n",
      "Epoch 5 Batch 400 Loss 0.0377\n",
      "Epoch 5 Loss 0.0525\n",
      "Time take for 1 epoch 67.55320429801941 sec\n",
      "\n",
      "Epoch 6 Batch 0 Loss 0.0258\n",
      "Epoch 6 Batch 100 Loss 0.0365\n",
      "Epoch 6 Batch 200 Loss 0.0413\n",
      "Epoch 6 Batch 300 Loss 0.0335\n",
      "Epoch 6 Batch 400 Loss 0.0295\n",
      "Epoch 6 Loss 0.0347\n",
      "Time take for 1 epoch 68.04390668869019 sec\n",
      "\n",
      "Epoch 7 Batch 0 Loss 0.0235\n",
      "Epoch 7 Batch 100 Loss 0.0145\n",
      "Epoch 7 Batch 200 Loss 0.0284\n",
      "Epoch 7 Batch 300 Loss 0.0278\n",
      "Epoch 7 Batch 400 Loss 0.0191\n",
      "Epoch 7 Loss 0.0248\n",
      "Time take for 1 epoch 68.1934757232666 sec\n",
      "\n",
      "Epoch 8 Batch 0 Loss 0.0142\n",
      "Epoch 8 Batch 100 Loss 0.0200\n",
      "Epoch 8 Batch 200 Loss 0.0229\n",
      "Epoch 8 Batch 300 Loss 0.0221\n",
      "Epoch 8 Batch 400 Loss 0.0075\n",
      "Epoch 8 Loss 0.0189\n",
      "Time take for 1 epoch 67.84542465209961 sec\n",
      "\n",
      "Epoch 9 Batch 0 Loss 0.0171\n",
      "Epoch 9 Batch 100 Loss 0.0126\n",
      "Epoch 9 Batch 200 Loss 0.0184\n",
      "Epoch 9 Batch 300 Loss 0.0159\n",
      "Epoch 9 Batch 400 Loss 0.0131\n",
      "Epoch 9 Loss 0.0151\n",
      "Time take for 1 epoch 67.87533974647522 sec\n",
      "\n",
      "Epoch 10 Batch 0 Loss 0.0139\n",
      "Epoch 10 Batch 100 Loss 0.0122\n",
      "Epoch 10 Batch 200 Loss 0.0108\n",
      "Epoch 10 Batch 300 Loss 0.0191\n",
      "Epoch 10 Batch 400 Loss 0.0080\n",
      "Epoch 10 Loss 0.0132\n",
      "Time take for 1 epoch 68.20220398902893 sec\n",
      "\n"
     ]
    }
   ],
   "source": [
    "# epochs 是 整个数据集遍历 次数. \n",
    "# step_per_epoch. 是每个epoch 需要遍历 batch的个数\n",
    "epochs = 10 \n",
    "steps_per_epoch = len(input_tensor) // batch_size \n",
    "\n",
    "for epoch in range(epochs):\n",
    "    start = time.time() \n",
    "    \n",
    "    encoding_hidden = encoder.initialize_hidden_state() \n",
    "    total_loss = 0 \n",
    "    \n",
    "    for (batch, (inp, targ)) in enumerate(\n",
    "        train_dataset.take(steps_per_epoch)):\n",
    "        \n",
    "        batch_loss = train_step(inp, targ, encoding_hidden)\n",
    "        total_loss += batch_loss \n",
    "        \n",
    "        if batch % 100 == 0:\n",
    "            print('Epoch {} Batch {} Loss {:.4f}'.format(\n",
    "                epoch + 1, batch, batch_loss.numpy()))\n",
    "    \n",
    "    print('Epoch {} Loss {:.4f}'.format(epoch + 1,\n",
    "                                       total_loss / steps_per_epoch))\n",
    "    print('Time take for 1 epoch {} sec\\n'.format(time.time() - start))"
   ]
  },
  {
   "cell_type": "markdown",
   "metadata": {},
   "source": [
    "##### 模型的预测. "
   ]
  },
  {
   "cell_type": "code",
   "execution_count": 32,
   "metadata": {},
   "outputs": [],
   "source": [
    "# 单个句子的评估，如果batch个句子，需要修改 下面的 encoding_hidden \n",
    "def evaluate(input_sentence):\n",
    "    # 注意力矩阵, 观察输入和输出之间的关系. \n",
    "    attention_matrix = np.zeros((max_length_output, max_length_input))\n",
    "    # 预处理下句子. \n",
    "    input_sentence = preprocess_sentence(input_sentence)     \n",
    "    \n",
    "    \n",
    "    inputs = [input_tokenizer.word_index[token] \n",
    "              for token in input_sentence.split(' ')]\n",
    "    inputs = keras.preprocessing.sequence.pad_sequences(\n",
    "            [inputs], maxlen = max_length_input, padding = 'post') \n",
    "    # 转为tf.tensor类型\n",
    "    inputs = tf.convert_to_tensor(inputs)\n",
    "    \n",
    "    \n",
    "    results = '' \n",
    "    # encoding_hidden = encoder.initialize_hidden_state() \n",
    "    encoding_hidden = tf.zeros((1, units))\n",
    "    \n",
    "    encoding_outputs, encoding_hidden = encoder(inputs, encoding_hidden)\n",
    "    decoding_hidden = encoding_hidden \n",
    "    \n",
    "    # eg: <start> -> A\n",
    "    # A -> B -> C -> D\n",
    "    \n",
    "    # decoding_input.shape: (1, 1)\n",
    "    decoding_input = tf.expand_dims(\n",
    "        [output_tokenizer.word_index['<start>']], 0)\n",
    "    \n",
    "    for t in range(max_length_output):\n",
    "        predictions, decoding_hidden, attention_weights = decoder(\n",
    "            decoding_input, decoding_hidden, encoding_outputs)\n",
    "        \n",
    "        # attention_weights.shape: (batch_size, input_length, 1) -> (1, 16, 1) \n",
    "        attention_weights = tf.reshape(attention_weights, (-1,))\n",
    "        attention_matrix[t] = attention_weights.numpy()\n",
    "        \n",
    "        # predictions.shape: (batch_size, vocab_size) (1, 4935)\n",
    "        predicted_id = tf.argmax(predictions[0]).numpy()\n",
    "        \n",
    "        results += output_tokenizer.index_word[predicted_id] + ' '\n",
    "        \n",
    "        if output_tokenizer.index_word[predicted_id] == '<end>':\n",
    "            return results, input_sentence, attention_matrix \n",
    "        \n",
    "        decoding_input = tf.expand_dims([predicted_id], 0)\n",
    "    return results, input_sentence, attention_matrix     "
   ]
  },
  {
   "cell_type": "code",
   "execution_count": 37,
   "metadata": {},
   "outputs": [],
   "source": [
    "def plot_attention(attention_matrix, input_sentence, predicted_sentence):\n",
    "    fig = plt.figure(figsize=(10, 10))\n",
    "    ax = fig.add_subplot(1, 1, 1)\n",
    "    # cmap='viridis' 不同值 显示 不同颜色\n",
    "    ax.matshow(attention_matrix, cmap='viridis')\n",
    "\n",
    "    fontdict = {'fontsize': 14}\n",
    "    # 最前面弄了个[''] 表示, 从第一个格子开始. \n",
    "    ax.set_xticklabels([''] + input_sentence, \n",
    "                       fontdict = fontdict, rotation = 90)\n",
    "    ax.set_yticklabels([''] + predicted_sentence, fontdict=fontdict)\n",
    "\n",
    "    plt.show()\n",
    "\n",
    "\n",
    "def translate(input_sentence): \n",
    "    results, input_sentence, attention_matrix = evaluate(input_sentence)\n",
    "    \n",
    "    print(\"Input: %s\" % (input_sentence))\n",
    "    print(\"Predicted translation: %s\" % (results))\n",
    "    \n",
    "    attention_matrix = attention_matrix[:len(results.split(' ')),\n",
    "                                        :len(input_sentence.split(' '))]\n",
    "    plot_attention(attention_matrix, input_sentence.split(' '),\n",
    "                   results.split(' '))\n",
    "    "
   ]
  },
  {
   "cell_type": "code",
   "execution_count": 38,
   "metadata": {},
   "outputs": [
    {
     "name": "stdout",
     "output_type": "stream",
     "text": [
      "Input: <start> hace mucho frio aqui . <end>\n",
      "Predicted translation: it s very cold here . <end> \n"
     ]
    },
    {
     "data": {
      "image/png": "[encoded data removed]",
      "text/plain": [
       "<Figure size 720x720 with 1 Axes>"
      ]
     },
     "metadata": {
      "needs_background": "light"
     },
     "output_type": "display_data"
    }
   ],
   "source": [
    "translate(u'Hace mucho frío aquí.')"
   ]
  },
  {
   "cell_type": "code",
   "execution_count": null,
   "metadata": {},
   "outputs": [],
   "source": []
  }
 ],
 "metadata": {
  "kernelspec": {
   "display_name": "tf2.0",
   "language": "python",
   "name": "tf2.0"
  },
  "language_info": {
   "codemirror_mode": {
    "name": "ipython",
    "version": 3
   },
   "file_extension": ".py",
   "mimetype": "text/x-python",
   "name": "python",
   "nbconvert_exporter": "python",
   "pygments_lexer": "ipython3",
   "version": "3.6.10"
  }
 },
 "nbformat": 4,
 "nbformat_minor": 4
}
